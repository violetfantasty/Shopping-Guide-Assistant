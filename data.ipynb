{
 "cells": [
  {
   "cell_type": "code",
   "execution_count": null,
   "id": "aebb3e39",
   "metadata": {},
   "outputs": [
    {
     "name": "stdout",
     "output_type": "stream",
     "text": [
      "正在生成嵌入向量，请稍候...\n"
     ]
    },
    {
     "name": "stderr",
     "output_type": "stream",
     "text": [
      "Embedding: 100%|██████████| 3000/3000 [25:46<00:00,  1.94it/s]\n"
     ]
    },
    {
     "name": "stdout",
     "output_type": "stream",
     "text": [
      "向量索引与 ID 映射已成功保存。\n"
     ]
    }
   ],
   "source": [
    "#向量检索构建\n",
    "import pandas as pd\n",
    "import faiss\n",
    "import numpy as np\n",
    "import pickle\n",
    "from tqdm import tqdm\n",
    "from openai import OpenAI\n",
    "\n",
    "# 读取 CSV 数据\n",
    "df = pd.read_csv(\"data.csv\", header=None, names=[\"id\", \"text\"])\n",
    "\n",
    "# 过滤文本长度小于5的行\n",
    "df = df[df[\"text\"].str.len() >= 10].reset_index(drop=True)\n",
    "\n",
    "# 随机抽样3000条，不放回\n",
    "df_sampled = df.sample(n=3000, random_state=42).reset_index(drop=False)\n",
    "\n",
    "# 初始化 OpenAI 客户端\n",
    "client = OpenAI(\n",
    "    api_key=\"******\",  \n",
    "    base_url=\"https://integrate.api.nvidia.com/v1\"\n",
    ")\n",
    "\n",
    "# 生成文本嵌入的函数\n",
    "def get_embedding(text: str):\n",
    "    try:\n",
    "        response = client.embeddings.create(\n",
    "            input=[text],\n",
    "            model=\"nvidia/nv-embedcode-7b-v1\",\n",
    "            encoding_format=\"float\",\n",
    "            extra_body={\"input_type\": \"passage\", \"truncate\": \"NONE\"}\n",
    "        )\n",
    "        return response.data[0].embedding\n",
    "    except Exception as e:\n",
    "        print(f\"嵌入失败，跳过文本：{text[:30]}... 错误：{e}\")\n",
    "        return None\n",
    "\n",
    "# 添加进度条提示\n",
    "print(\"正在生成嵌入向量，请稍候...\")\n",
    "\n",
    "# 生成嵌入并过滤失败项\n",
    "texts, embeddings = [], []\n",
    "for text in tqdm(df_sampled[\"text\"], desc=\"Embedding\"):\n",
    "    emb = get_embedding(text)\n",
    "    if emb is not None:\n",
    "        texts.append(text)\n",
    "        embeddings.append(emb)\n",
    "\n",
    "# 转为 numpy 数组\n",
    "embeddings_np = np.array(embeddings).astype(\"float32\")\n",
    "\n",
    "# 获取向量维度\n",
    "embedding_dim = embeddings_np.shape[1]\n",
    "\n",
    "# 构建 FAISS 索引\n",
    "index = faiss.IndexFlatL2(embedding_dim)\n",
    "index.add(embeddings_np)\n",
    "\n",
    "# 保存向量索引到磁盘\n",
    "faiss.write_index(index, \"vector_index.faiss\")\n",
    "\n",
    "# 保存文本 ID 映射（用 pickle 序列化）\n",
    "with open(\"id_map.pkl\", \"wb\") as f:\n",
    "    pickle.dump(texts, f)\n",
    "\n",
    "print(\"向量索引与 ID 映射已成功保存。\")"
   ]
  },
  {
   "cell_type": "code",
   "execution_count": null,
   "id": "f8bbedc3",
   "metadata": {},
   "outputs": [
    {
     "name": "stdout",
     "output_type": "stream",
     "text": [
      "相似文本： 4月25号，一位男士顾客来买面试穿的西服我们给他推荐了一款他试穿了一下觉得很好就直接买单了3424元。\n",
      "相似度距离： 0.67480475\n",
      "相似文本： 12月7号，一位36岁左右的先生，有券刚好需要一套西服，看上了一套蓝色暗格纹抗皱西服。\n",
      "相似度距离： 0.69302225\n",
      "相似文本： 4月22号，先生给自己特殊体型买一套西服。\n",
      "相似度距离： 0.6937717\n"
     ]
    }
   ],
   "source": [
    "#测试\n",
    "import faiss\n",
    "import pickle\n",
    "import numpy as np\n",
    "from openai import OpenAI\n",
    "\n",
    "# 加载 FAISS 索引\n",
    "index = faiss.read_index(\"vector_index.faiss\")\n",
    "\n",
    "# 加载 ID 映射\n",
    "with open(\"id_map.pkl\", \"rb\") as f:\n",
    "    id_map = pickle.load(f)\n",
    "\n",
    "# 初始化客户端\n",
    "client = OpenAI(\n",
    "    api_key=\"******\",\n",
    "    base_url=\"https://integrate.api.nvidia.com/v1\"\n",
    ")\n",
    "\n",
    "# 查询函数\n",
    "def get_query_embedding(text: str):\n",
    "    response = client.embeddings.create(\n",
    "        input=[text],\n",
    "        model=\"nvidia/nv-embedcode-7b-v1\",\n",
    "        encoding_format=\"float\",\n",
    "        extra_body={\"input_type\": \"query\", \"truncate\": \"NONE\"}\n",
    "    )\n",
    "    return response.data[0].embedding\n",
    "\n",
    "def query(text_query: str, top_k: int = 3):\n",
    "    query_vector = np.array(get_query_embedding(text_query)).astype(\"float32\").reshape(1, -1)\n",
    "    distances, indices = index.search(query_vector, top_k)\n",
    "    results = [(id_map[i], distances[0][j]) for j, i in enumerate(indices[0])]\n",
    "    return results\n",
    "\n",
    "# 示例查询\n",
    "results = query(\"有没有买西服的顾客？\")\n",
    "for r in results:\n",
    "    print(\"相似文本：\", r[0])\n",
    "    print(\"相似度距离：\", r[1])"
   ]
  }
 ],
 "metadata": {
  "kernelspec": {
   "display_name": "Python 3",
   "language": "python",
   "name": "python3"
  },
  "language_info": {
   "codemirror_mode": {
    "name": "ipython",
    "version": 3
   },
   "file_extension": ".py",
   "mimetype": "text/x-python",
   "name": "python",
   "nbconvert_exporter": "python",
   "pygments_lexer": "ipython3",
   "version": "3.10.15"
  }
 },
 "nbformat": 4,
 "nbformat_minor": 5
}
